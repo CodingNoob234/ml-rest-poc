{
 "cells": [
  {
   "cell_type": "code",
   "execution_count": 15,
   "metadata": {},
   "outputs": [
    {
     "name": "stdout",
     "output_type": "stream",
     "text": [
      "request took: 0.043s\n",
      "Prediction: ([0.00027400258233021933],)\n"
     ]
    }
   ],
   "source": [
    "# Send POST request to create a new item\"\n",
    "from tests.data.test_messages import payload_fail, payload_succes\n",
    "import requests\n",
    "import time\n",
    "\n",
    "local = True\n",
    "k8 = False # if run in kubernetes cluster\n",
    "ssl_enabled = False\n",
    "\n",
    "port = 31738 if k8 else 8000\n",
    "\n",
    "t = time.time()\n",
    "for i in range(1):\n",
    "    response = requests.post(\n",
    "        f\"http{'s' if ssl_enabled else ''}://localhost:{port}/api/prediction\" if local else \\\n",
    "            \"http://127.0.0.1/api/prediction\",\n",
    "        json=payload_succes,\n",
    "        verify=\"./config/cert.pem\",\n",
    "    )\n",
    "print(f'request took: {round(time.time() - t,3)}s')\n",
    "\n",
    "# Check the respons\n",
    "if response.status_code == 200:\n",
    "    data = response.json()\n",
    "    prediction = data[\"prediction\"],\n",
    "    print(\"Prediction:\", prediction)\n",
    "elif response.status_code == 422:\n",
    "    print(\"POST request failed with status code 422 (Unprocessable Entity).\"),\n",
    "    print(\"Response Content:\", response.content.decode()),\n",
    "else:\n",
    "    print(\"POST request failed with status code:\", response.status_code)"
   ]
  },
  {
   "cell_type": "code",
   "execution_count": null,
   "metadata": {},
   "outputs": [],
   "source": []
  }
 ],
 "metadata": {
  "kernelspec": {
   "display_name": "my_tf_env",
   "language": "python",
   "name": "python3"
  },
  "language_info": {
   "codemirror_mode": {
    "name": "ipython",
    "version": 3
   },
   "file_extension": ".py",
   "mimetype": "text/x-python",
   "name": "python",
   "nbconvert_exporter": "python",
   "pygments_lexer": "ipython3",
   "version": "3.9.16"
  },
  "orig_nbformat": 4
 },
 "nbformat": 4,
 "nbformat_minor": 2
}
