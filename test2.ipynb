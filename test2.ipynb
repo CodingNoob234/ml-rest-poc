{
 "cells": [
  {
   "cell_type": "code",
   "execution_count": 21,
   "metadata": {},
   "outputs": [
    {
     "name": "stdout",
     "output_type": "stream",
     "text": [
      "0.21808886528015137\n",
      "{'prediction': [0.00027400258233021933]}\n",
      "Created Item: ([0.00027400258233021933],)\n"
     ]
    }
   ],
   "source": [
    "import requests\n",
    "import json\n",
    "\n",
    "# Send POST request to create a new item\"\n",
    "from tests.data.test_messages import payload_fail, payload_succes\n",
    "\n",
    "import time\n",
    "\n",
    "local = True\n",
    "k8 = True # if run in kubernetes cluster\n",
    "\n",
    "port = 31738 if k8 else 8000\n",
    "\n",
    "t = time.time()\n",
    "for i in range(1):\n",
    "    response = requests.post(\n",
    "        f\"http://localhost:{port}/api/prediction\" if local else \\\n",
    "            \"http://127.0.0.1/api/prediction\",\n",
    "        json=payload_succes,\n",
    "        verify=\"./config/cert.pem\",\n",
    "    )\n",
    "print(time.time() - t)\n",
    "\n",
    "# Check the respons\n",
    "if response.status_code == 200:\n",
    "    data = response.json()\n",
    "    print(data)\n",
    "    created_item = data[\"prediction\"],\n",
    "    print(\"Created Item:\", created_item)\n",
    "elif response.status_code == 422:\n",
    "    print(\"POST request failed with status code 422 (Unprocessable Entity).\"),\n",
    "    print(\"Response Content:\", response.content.decode()),\n",
    "else:\n",
    "    print(\"POST request failed with status code:\", response.status_code)"
   ]
  },
  {
   "cell_type": "code",
   "execution_count": null,
   "metadata": {},
   "outputs": [],
   "source": []
  }
 ],
 "metadata": {
  "kernelspec": {
   "display_name": "my_tf_env",
   "language": "python",
   "name": "python3"
  },
  "language_info": {
   "codemirror_mode": {
    "name": "ipython",
    "version": 3
   },
   "file_extension": ".py",
   "mimetype": "text/x-python",
   "name": "python",
   "nbconvert_exporter": "python",
   "pygments_lexer": "ipython3",
   "version": "3.9.16"
  },
  "orig_nbformat": 4
 },
 "nbformat": 4,
 "nbformat_minor": 2
}
